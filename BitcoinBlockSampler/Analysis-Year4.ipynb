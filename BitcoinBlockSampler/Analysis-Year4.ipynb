{
 "cells": [
  {
   "cell_type": "markdown",
   "id": "dfd5e60e-89a1-4bdd-8464-319af927260c",
   "metadata": {},
   "source": [
    "# Aanalysis code in year 4"
   ]
  },
  {
   "cell_type": "code",
   "execution_count": null,
   "id": "ba016e1b-cf23-4f76-b2cb-b21663354b0d",
   "metadata": {},
   "outputs": [],
   "source": [
    "import csv\n",
    "import sqlite3"
   ]
  }
 ],
 "metadata": {
  "kernelspec": {
   "display_name": "BitSQL",
   "language": "python",
   "name": "bitsql"
  },
  "language_info": {
   "codemirror_mode": {
    "name": "ipython",
    "version": 3
   },
   "file_extension": ".py",
   "mimetype": "text/x-python",
   "name": "python",
   "nbconvert_exporter": "python",
   "pygments_lexer": "ipython3",
   "version": "3.10.12"
  }
 },
 "nbformat": 4,
 "nbformat_minor": 5
}
