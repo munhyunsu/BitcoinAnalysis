{
 "cells": [
  {
   "cell_type": "markdown",
   "id": "dfd5e60e-89a1-4bdd-8464-319af927260c",
   "metadata": {},
   "source": [
    "# Aanalysis code in year 4"
   ]
  },
  {
   "cell_type": "code",
   "execution_count": null,
   "id": "ba016e1b-cf23-4f76-b2cb-b21663354b0d",
   "metadata": {},
   "outputs": [],
   "source": [
    "import csv\n",
    "import sqlite3"
   ]
  },
  {
   "cell_type": "code",
   "execution_count": null,
   "id": "27e898d9-2a24-41e9-9a40-e10e8a4860c4",
   "metadata": {},
   "outputs": [],
   "source": [
    "indexpath = 'dbv3-index.db'\n",
    "corepath = 'dbv3-core.db'\n",
    "servicepath = 'dbv3-service.db'\n",
    "utilpath = 'dbv3-util.db'"
   ]
  },
  {
   "cell_type": "code",
   "execution_count": null,
   "id": "bdf326af-2d1b-44d7-adb6-487706599901",
   "metadata": {},
   "outputs": [],
   "source": [
    "conn = sqlite3.connect(':memory:')\n",
    "cur = conn.cursor()\n",
    "cur.execute(f'''ATTACH DATABASE '{indexpath}' AS DBINDEX;''')\n",
    "cur.execute(f'''ATTACH DATABASE '{corepath}' AS DBCORE;''')\n",
    "cur.execute(f'''ATTACH DATABASE '{servicepath}' AS DBSERVICE;''')\n",
    "cur.execute(f'''ATTACH DATABASE '{utilpath}' AS DBUTIL;''')\n",
    "conn.commit()"
   ]
  },
  {
   "cell_type": "code",
   "execution_count": null,
   "id": "d7482f75-5a8d-4d3c-bca2-7ce6e17ac728",
   "metadata": {},
   "outputs": [],
   "source": [
    "tagpath = 'datasets/NamedCluster-Year4.csv'"
   ]
  },
  {
   "cell_type": "code",
   "execution_count": null,
   "id": "f74f4f02-bd96-4519-aceb-29d2658cd872",
   "metadata": {},
   "outputs": [],
   "source": [
    "with open(tagpath, 'r') as f:\n",
    "    reader = csv.DictReader(f)\n",
    "    print(reader.fieldnames)"
   ]
  },
  {
   "cell_type": "code",
   "execution_count": null,
   "id": "cc3f3495-9527-402b-8014-14cbf74da48b",
   "metadata": {},
   "outputs": [],
   "source": []
  }
 ],
 "metadata": {
  "kernelspec": {
   "display_name": "Python 3 (ipykernel)",
   "language": "python",
   "name": "python3"
  },
  "language_info": {
   "codemirror_mode": {
    "name": "ipython",
    "version": 3
   },
   "file_extension": ".py",
   "mimetype": "text/x-python",
   "name": "python",
   "nbconvert_exporter": "python",
   "pygments_lexer": "ipython3",
   "version": "3.10.12"
  }
 },
 "nbformat": 4,
 "nbformat_minor": 5
}
