{
 "cells": [
  {
   "cell_type": "markdown",
   "id": "dfd5e60e-89a1-4bdd-8464-319af927260c",
   "metadata": {},
   "source": [
    "# Aanalysis code in year 4"
   ]
  },
  {
   "cell_type": "code",
   "execution_count": null,
   "id": "ba016e1b-cf23-4f76-b2cb-b21663354b0d",
   "metadata": {},
   "outputs": [],
   "source": [
    "import csv\n",
    "import sqlite3\n",
    "\n",
    "import numpy as np\n",
    "import pandas as pd"
   ]
  },
  {
   "cell_type": "code",
   "execution_count": null,
   "id": "27e898d9-2a24-41e9-9a40-e10e8a4860c4",
   "metadata": {},
   "outputs": [],
   "source": [
    "indexpath = 'dbv3-index.db'\n",
    "corepath = 'dbv3-core.db'\n",
    "servicepath = 'dbv3-service.db'\n",
    "utilpath = 'dbv3-util.db'"
   ]
  },
  {
   "cell_type": "code",
   "execution_count": null,
   "id": "bdf326af-2d1b-44d7-adb6-487706599901",
   "metadata": {},
   "outputs": [],
   "source": [
    "conn = sqlite3.connect(':memory:')\n",
    "cur = conn.cursor()\n",
    "cur.execute(f'''ATTACH DATABASE '{indexpath}' AS DBINDEX;''')\n",
    "cur.execute(f'''ATTACH DATABASE '{corepath}' AS DBCORE;''')\n",
    "cur.execute(f'''ATTACH DATABASE '{servicepath}' AS DBSERVICE;''')\n",
    "cur.execute(f'''ATTACH DATABASE '{utilpath}' AS DBUTIL;''')\n",
    "conn.commit()"
   ]
  },
  {
   "cell_type": "code",
   "execution_count": null,
   "id": "d7482f75-5a8d-4d3c-bca2-7ce6e17ac728",
   "metadata": {},
   "outputs": [],
   "source": [
    "tagpath = 'datasets/NamedCluster-Year4.csv'\n",
    "rootaddrpath = 'datasets/NamedCluster-Year4-RootAddress.csv'"
   ]
  },
  {
   "cell_type": "code",
   "execution_count": null,
   "id": "f74f4f02-bd96-4519-aceb-29d2658cd872",
   "metadata": {},
   "outputs": [],
   "source": [
    "with open(tagpath, 'r') as f:\n",
    "    reader = csv.DictReader(f)\n",
    "    print(reader.fieldnames)"
   ]
  },
  {
   "cell_type": "markdown",
   "id": "631cab65-84c6-4b34-a574-58078f87f0e9",
   "metadata": {},
   "source": [
    "```sql\n",
    "-- TODO: Cluster ID and Root Address by Address\n",
    "SELECT MIN(DBSERVICE.Cluster.addr) AS clusterId, DBINDEX.AddrID.addr AS rootAddress\n",
    "FROM DBSERVICE.Cluster\n",
    "INNER JOIN DBINDEX.AddrID ON DBSERVICE.Cluster.addr = DBINDEX.AddrID.id\n",
    "WHERE DBSERVICE.Cluster.cluster = (\n",
    "    SELECT DBSERVICE.Cluster.cluster\n",
    "    FROM DBSERVICE.Cluster\n",
    "    WHERE DBSERVICE.Cluster.addr = (\n",
    "        SELECT DBINDEX.AddrID.id\n",
    "        FROM DBINDEX.AddrID\n",
    "        WHERE DBINDEX.AddrID.addr = 'bc1q2lgzm0mh6qgydmc5vvauv2uh6e745yn797wwqs'));\n",
    "```"
   ]
  },
  {
   "cell_type": "code",
   "execution_count": null,
   "id": "2614ba4d-df8e-45ec-aa6f-b747a57a095f",
   "metadata": {},
   "outputs": [],
   "source": [
    "query = '''\n",
    "SELECT MIN(DBSERVICE.Cluster.addr) AS clusterId, DBINDEX.AddrID.addr AS rootAddress\n",
    "FROM DBSERVICE.Cluster\n",
    "INNER JOIN DBINDEX.AddrID ON DBSERVICE.Cluster.addr = DBINDEX.AddrID.id\n",
    "WHERE DBSERVICE.Cluster.cluster = (\n",
    "    SELECT DBSERVICE.Cluster.cluster\n",
    "    FROM DBSERVICE.Cluster\n",
    "    WHERE DBSERVICE.Cluster.addr = (\n",
    "        SELECT DBINDEX.AddrID.id\n",
    "        FROM DBINDEX.AddrID\n",
    "        WHERE DBINDEX.AddrID.addr = ?));\n",
    "'''"
   ]
  },
  {
   "cell_type": "code",
   "execution_count": null,
   "id": "cc3f3495-9527-402b-8014-14cbf74da48b",
   "metadata": {},
   "outputs": [],
   "source": [
    "rows = []\n",
    "with open(tagpath, 'r') as f:\n",
    "    reader = csv.DictReader(f)\n",
    "    for row in reader:\n",
    "        cur.execute(query, (row['address'],))\n",
    "        res = cur.fetchone()\n",
    "        rows.append((row['categoryName'], row['clusterName'], row['address'], res[1], res[0]))\n",
    "print(len(rows))"
   ]
  },
  {
   "cell_type": "code",
   "execution_count": null,
   "id": "cfd69230-ec6a-4d80-b156-a9f0286bf2e6",
   "metadata": {},
   "outputs": [],
   "source": [
    "df = pd.DataFrame(rows, columns=('categoryName', 'clusterName', 'address', 'rootAddress', 'clusterId'))\n",
    "df"
   ]
  },
  {
   "cell_type": "code",
   "execution_count": null,
   "id": "6201005e-6546-4ecb-83fe-2c8c2ccbcd33",
   "metadata": {},
   "outputs": [],
   "source": [
    "df.to_csv(rootaddrpath)"
   ]
  },
  {
   "cell_type": "code",
   "execution_count": null,
   "id": "9f707a93-f723-43f1-acf4-ff5e4671f667",
   "metadata": {},
   "outputs": [],
   "source": [
    "df.group_by(("
   ]
  }
 ],
 "metadata": {
  "kernelspec": {
   "display_name": "Python 3 (ipykernel)",
   "language": "python",
   "name": "python3"
  },
  "language_info": {
   "codemirror_mode": {
    "name": "ipython",
    "version": 3
   },
   "file_extension": ".py",
   "mimetype": "text/x-python",
   "name": "python",
   "nbconvert_exporter": "python",
   "pygments_lexer": "ipython3",
   "version": "3.10.12"
  }
 },
 "nbformat": 4,
 "nbformat_minor": 5
}
